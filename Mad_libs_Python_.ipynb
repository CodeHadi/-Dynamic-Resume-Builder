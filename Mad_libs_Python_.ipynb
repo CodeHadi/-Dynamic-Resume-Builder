{
  "nbformat": 4,
  "nbformat_minor": 0,
  "metadata": {
    "colab": {
      "provenance": [],
      "authorship_tag": "ABX9TyNj2ZL1yLSFeCfy0QCI1ByE",
      "include_colab_link": true
    },
    "kernelspec": {
      "name": "python3",
      "display_name": "Python 3"
    },
    "language_info": {
      "name": "python"
    }
  },
  "cells": [
    {
      "cell_type": "markdown",
      "metadata": {
        "id": "view-in-github",
        "colab_type": "text"
      },
      "source": [
        "<a href=\"https://colab.research.google.com/github/CodeHadi/-Dynamic-Resume-Builder/blob/main/Mad_libs_Python_.ipynb\" target=\"_parent\"><img src=\"https://colab.research.google.com/assets/colab-badge.svg\" alt=\"Open In Colab\"/></a>"
      ]
    },
    {
      "cell_type": "markdown",
      "source": [
        "# **Mad libs Game in Python**"
      ],
      "metadata": {
        "id": "cIybgD1DwPig"
      }
    },
    {
      "cell_type": "code",
      "source": [
        "# User Input\n",
        "name = input('Enter a name: ')\n",
        "programming_language = input('Enter a programming language (e.g: Python, Next.js, TypeScript): ')\n",
        "mentor = input('Enter your mentor\\'s name: ')\n",
        "\n",
        "# New Story Created\n",
        "print(\"\\n Here is a brand new story based on your inputs!\")\n",
        "print(f\"{name} was an imaginative soul with big dreams.\")\n",
        "print(f\"One evening, while scrolling through the internet, {name} discovered the magic of {programming_language}.\")\n",
        "print(f\"Determined to master it, {name} began a quest to find the best guidance.\")\n",
        "print(f\"That’s when {name} met a wise and helpful mentor named {mentor}.\")\n",
        "print(f\"Under {mentor}'s guidance, {name} learned not only to code, but to think like a real developer.\")\n",
        "print(\"And from that moment on, there was no turning back — the journey of a coding legend had just begun.\")\n"
      ],
      "metadata": {
        "colab": {
          "base_uri": "https://localhost:8080/"
        },
        "id": "44LQDdYCwuoU",
        "outputId": "87db1d9a-5338-463d-c005-0db37a76284c"
      },
      "execution_count": 1,
      "outputs": [
        {
          "output_type": "stream",
          "name": "stdout",
          "text": [
            "Enter a name: abdul hadi\n",
            "Enter a programming language (e.g: Python, Next.js, TypeScript): python\n",
            "Enter your mentor's name: elon mask\n",
            "\n",
            " Here is a brand new story based on your inputs!\n",
            "abdul hadi was an imaginative soul with big dreams.\n",
            "One evening, while scrolling through the internet, abdul hadi discovered the magic of python.\n",
            "Determined to master it, abdul hadi began a quest to find the best guidance.\n",
            "That’s when abdul hadi met a wise and helpful mentor named elon mask.\n",
            "Under elon mask's guidance, abdul hadi learned not only to code, but to think like a real developer.\n",
            "And from that moment on, there was no turning back — the journey of a coding legend had just begun.\n"
          ]
        }
      ]
    }
  ]
}